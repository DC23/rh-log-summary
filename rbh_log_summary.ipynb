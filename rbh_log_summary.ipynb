{
 "cells": [
  {
   "cell_type": "code",
   "execution_count": 3,
   "metadata": {
    "collapsed": false
   },
   "outputs": [],
   "source": [
    "import re\n"
   ]
  },
  {
   "cell_type": "markdown",
   "metadata": {},
   "source": [
    "Define the human-readable approximate size function, from Dive into Python 3"
   ]
  },
  {
   "cell_type": "markdown",
   "metadata": {},
   "source": [
    "Set up the regexes"
   ]
  },
  {
   "cell_type": "code",
   "execution_count": 4,
   "metadata": {
    "collapsed": true
   },
   "outputs": [],
   "source": [
    "re_filename = re.compile(r\".*Purged '([^']+)'\")\n",
    "re_bytes = re.compile(r\".*size=(\\d+)\")\n",
    "re_atime = re.compile(r\".*last access (\\d+\\.\\d+)\")"
   ]
  },
  {
   "cell_type": "code",
   "execution_count": 15,
   "metadata": {
    "collapsed": true
   },
   "outputs": [],
   "source": [
    "file = './askap_purge'\n",
    "atime_threshold = 30.0\n",
    "verbose = True"
   ]
  },
  {
   "cell_type": "code",
   "execution_count": 16,
   "metadata": {
    "collapsed": true
   },
   "outputs": [],
   "source": [
    "total_bytes = 0.0\n",
    "total_files = 0"
   ]
  },
  {
   "cell_type": "code",
   "execution_count": 23,
   "metadata": {
    "collapsed": false
   },
   "outputs": [
    {
     "name": "stdout",
     "output_type": "stream",
     "text": [
      "/scratch2/askap/askapops/archive/askap-scheduling-blocks: 48 bytes, last access: 53.7 days\n",
      "/scratch2/askap/askapops/archive/BusyWeekData/SB1248+1250_CDFS_FieldA_Beam0.ms/table.dat: 7354 bytes, last access: 53.7 days\n",
      "/scratch2/askap/askapops/archive/BusyWeekData/SB1248+1250_CDFS_FieldA_Beam0.ms/table.f0: 197218 bytes, last access: 53.7 days\n",
      "/scratch2/askap/askapops/archive/BusyWeekData/SB1248+1250_CDFS_FieldA_Beam0.ms/table.f0i: 16 bytes, last access: 53.7 days\n",
      "/scratch2/askap/askapops/archive/beta-scheduling-blocks: 48 bytes, last access: 53.7 days\n",
      "/scratch2/askap/askapops/archive/BusyWeekData/SB1248+1250_CDFS_FieldA_Beam0.ms/table.f1: 3146240 bytes, last access: 53.7 days\n",
      "/scratch2/askap/askapops/archive/BusyWeekData/SB1248+1250_CDFS_FieldA_Beam0.ms/table.f2: 491 bytes, last access: 53.7 days\n",
      "/scratch2/askap/askapops/archive/BusyWeekData/SB1248+1250_CDFS_FieldA_Beam0.ms/table.f2_TSM1: 1147437056 bytes, last access: 53.7 days\n",
      "/scratch2/askap/askapops/archive/BusyWeekData/SB1248+1250_CDFS_FieldA_Beam0.ms/table.f3_TSM1: 2490368 bytes, last access: 53.7 days\n",
      "/scratch2/askap/askapops/archive/BusyWeekData/SB1248+1250_CDFS_FieldA_Beam0.ms/table.info: 179 bytes, last access: 53.7 days\n",
      "/scratch2/askap/askapops/archive/askap-scheduling-blocks: 48 bytes, last access: 53.7 days\n",
      "/scratch2/askap/askapops/archive/BusyWeekData/SB1248+1250_CDFS_FieldA_Beam0.ms/table.dat: 7354 bytes, last access: 53.7 days\n",
      "/scratch2/askap/askapops/archive/BusyWeekData/SB1248+1250_CDFS_FieldA_Beam0.ms/table.f0: 197218 bytes, last access: 53.7 days\n",
      "/scratch2/askap/askapops/archive/BusyWeekData/SB1248+1250_CDFS_FieldA_Beam0.ms/table.f0i: 16 bytes, last access: 53.7 days\n",
      "/scratch2/askap/askapops/archive/beta-scheduling-blocks: 48 bytes, last access: 53.7 days\n",
      "/scratch2/askap/askapops/archive/BusyWeekData/SB1248+1250_CDFS_FieldA_Beam0.ms/table.f1: 3146240 bytes, last access: 53.7 days\n",
      "/scratch2/askap/askapops/archive/BusyWeekData/SB1248+1250_CDFS_FieldA_Beam0.ms/table.f2: 491 bytes, last access: 53.7 days\n",
      "/scratch2/askap/askapops/archive/BusyWeekData/SB1248+1250_CDFS_FieldA_Beam0.ms/table.f2_TSM1: 1147437056 bytes, last access: 53.7 days\n",
      "/scratch2/askap/askapops/archive/BusyWeekData/SB1248+1250_CDFS_FieldA_Beam0.ms/table.f3_TSM1: 2490368 bytes, last access: 53.7 days\n",
      "/scratch2/askap/askapops/archive/BusyWeekData/SB1248+1250_CDFS_FieldA_Beam0.ms/table.info: 179 bytes, last access: 53.7 days\n",
      "/scratch2/askap/askapops/archive/askap-scheduling-blocks: 48 bytes, last access: 53.7 days\n",
      "/scratch2/askap/askapops/archive/BusyWeekData/SB1248+1250_CDFS_FieldA_Beam0.ms/table.dat: 7354 bytes, last access: 53.7 days\n",
      "/scratch2/askap/askapops/archive/BusyWeekData/SB1248+1250_CDFS_FieldA_Beam0.ms/table.f0: 197218 bytes, last access: 53.7 days\n",
      "/scratch2/askap/askapops/archive/BusyWeekData/SB1248+1250_CDFS_FieldA_Beam0.ms/table.f0i: 16 bytes, last access: 53.7 days\n",
      "/scratch2/askap/askapops/archive/beta-scheduling-blocks: 48 bytes, last access: 53.7 days\n",
      "/scratch2/askap/askapops/archive/BusyWeekData/SB1248+1250_CDFS_FieldA_Beam0.ms/table.f1: 3146240 bytes, last access: 53.7 days\n",
      "/scratch2/askap/askapops/archive/BusyWeekData/SB1248+1250_CDFS_FieldA_Beam0.ms/table.f2: 491 bytes, last access: 53.7 days\n",
      "/scratch2/askap/askapops/archive/BusyWeekData/SB1248+1250_CDFS_FieldA_Beam0.ms/table.f2_TSM1: 1147437056 bytes, last access: 53.7 days\n",
      "/scratch2/askap/askapops/archive/BusyWeekData/SB1248+1250_CDFS_FieldA_Beam0.ms/table.f3_TSM1: 2490368 bytes, last access: 53.7 days\n",
      "/scratch2/askap/askapops/archive/BusyWeekData/SB1248+1250_CDFS_FieldA_Beam0.ms/table.info: 179 bytes, last access: 53.7 days\n",
      "/scratch2/askap/askapops/archive/askap-scheduling-blocks: 48 bytes, last access: 53.7 days\n",
      "/scratch2/askap/askapops/archive/BusyWeekData/SB1248+1250_CDFS_FieldA_Beam0.ms/table.dat: 7354 bytes, last access: 53.7 days\n",
      "/scratch2/askap/askapops/archive/BusyWeekData/SB1248+1250_CDFS_FieldA_Beam0.ms/table.f0: 197218 bytes, last access: 53.7 days\n",
      "/scratch2/askap/askapops/archive/BusyWeekData/SB1248+1250_CDFS_FieldA_Beam0.ms/table.f0i: 16 bytes, last access: 53.7 days\n",
      "/scratch2/askap/askapops/archive/beta-scheduling-blocks: 48 bytes, last access: 53.7 days\n",
      "/scratch2/askap/askapops/archive/BusyWeekData/SB1248+1250_CDFS_FieldA_Beam0.ms/table.f1: 3146240 bytes, last access: 53.7 days\n",
      "/scratch2/askap/askapops/archive/BusyWeekData/SB1248+1250_CDFS_FieldA_Beam0.ms/table.f2: 491 bytes, last access: 53.7 days\n",
      "/scratch2/askap/askapops/archive/BusyWeekData/SB1248+1250_CDFS_FieldA_Beam0.ms/table.f2_TSM1: 1147437056 bytes, last access: 53.7 days\n",
      "/scratch2/askap/askapops/archive/BusyWeekData/SB1248+1250_CDFS_FieldA_Beam0.ms/table.f3_TSM1: 2490368 bytes, last access: 53.7 days\n",
      "/scratch2/askap/askapops/archive/BusyWeekData/SB1248+1250_CDFS_FieldA_Beam0.ms/table.info: 179 bytes, last access: 53.7 days\n",
      "/scratch2/askap/askapops/archive/askap-scheduling-blocks: 48 bytes, last access: 53.7 days\n",
      "/scratch2/askap/askapops/archive/BusyWeekData/SB1248+1250_CDFS_FieldA_Beam0.ms/table.dat: 7354 bytes, last access: 53.7 days\n",
      "/scratch2/askap/askapops/archive/BusyWeekData/SB1248+1250_CDFS_FieldA_Beam0.ms/table.f0: 197218 bytes, last access: 53.7 days\n",
      "/scratch2/askap/askapops/archive/BusyWeekData/SB1248+1250_CDFS_FieldA_Beam0.ms/table.f0i: 16 bytes, last access: 53.7 days\n",
      "/scratch2/askap/askapops/archive/beta-scheduling-blocks: 48 bytes, last access: 53.7 days\n",
      "/scratch2/askap/askapops/archive/BusyWeekData/SB1248+1250_CDFS_FieldA_Beam0.ms/table.f1: 3146240 bytes, last access: 53.7 days\n",
      "/scratch2/askap/askapops/archive/BusyWeekData/SB1248+1250_CDFS_FieldA_Beam0.ms/table.f2: 491 bytes, last access: 53.7 days\n",
      "/scratch2/askap/askapops/archive/BusyWeekData/SB1248+1250_CDFS_FieldA_Beam0.ms/table.f2_TSM1: 1147437056 bytes, last access: 53.7 days\n",
      "/scratch2/askap/askapops/archive/BusyWeekData/SB1248+1250_CDFS_FieldA_Beam0.ms/table.f3_TSM1: 2490368 bytes, last access: 53.7 days\n",
      "/scratch2/askap/askapops/archive/BusyWeekData/SB1248+1250_CDFS_FieldA_Beam0.ms/table.info: 179 bytes, last access: 53.7 days\n",
      "/scratch2/askap/askapops/archive/askap-scheduling-blocks: 48 bytes, last access: 53.7 days\n",
      "/scratch2/askap/askapops/archive/BusyWeekData/SB1248+1250_CDFS_FieldA_Beam0.ms/table.dat: 7354 bytes, last access: 53.7 days\n",
      "/scratch2/askap/askapops/archive/BusyWeekData/SB1248+1250_CDFS_FieldA_Beam0.ms/table.f0: 197218 bytes, last access: 53.7 days\n",
      "/scratch2/askap/askapops/archive/BusyWeekData/SB1248+1250_CDFS_FieldA_Beam0.ms/table.f0i: 16 bytes, last access: 53.7 days\n",
      "/scratch2/askap/askapops/archive/beta-scheduling-blocks: 48 bytes, last access: 53.7 days\n",
      "/scratch2/askap/askapops/archive/BusyWeekData/SB1248+1250_CDFS_FieldA_Beam0.ms/table.f1: 3146240 bytes, last access: 53.7 days\n",
      "/scratch2/askap/askapops/archive/BusyWeekData/SB1248+1250_CDFS_FieldA_Beam0.ms/table.f2: 491 bytes, last access: 53.7 days\n",
      "/scratch2/askap/askapops/archive/BusyWeekData/SB1248+1250_CDFS_FieldA_Beam0.ms/table.f2_TSM1: 1147437056 bytes, last access: 53.7 days\n",
      "/scratch2/askap/askapops/archive/BusyWeekData/SB1248+1250_CDFS_FieldA_Beam0.ms/table.f3_TSM1: 2490368 bytes, last access: 53.7 days\n",
      "/scratch2/askap/askapops/archive/BusyWeekData/SB1248+1250_CDFS_FieldA_Beam0.ms/table.info: 179 bytes, last access: 53.7 days\n"
     ]
    }
   ],
   "source": [
    "with open(file) as f:\n",
    "    for line in f:\n",
    "        size_bytes = (int)(re_bytes.match(line).group(1))\n",
    "        atime = (float)(re_atime.match(line).group(1))\n",
    "\n",
    "        if atime >= atime_threshold:\n",
    "            total_bytes += size_bytes\n",
    "            total_files += 1\n",
    "\n",
    "        if verbose:\n",
    "            filename = re_filename.match(line).group(1)\n",
    "            print('{0}: {1} bytes, last access: {2} days'.format(filename, size_bytes, atime))"
   ]
  },
  {
   "cell_type": "markdown",
   "metadata": {},
   "source": [
    "Final report"
   ]
  },
  {
   "cell_type": "code",
   "execution_count": 24,
   "metadata": {
    "collapsed": false
   },
   "outputs": [
    {
     "name": "stdout",
     "output_type": "stream",
     "text": [
      "Source log file: ./askap_purge\n",
      "Threshold: 30.0 days\n",
      "File count: 70\n",
      "Total freed: 8072953126.0\n"
     ]
    }
   ],
   "source": [
    "print('Source log file: {0}'.format(file))\n",
    "print('Threshold: {0} days'.format(atime_threshold))\n",
    "print('File count: {0}'.format(total_files))\n",
    "print('Total freed: {0}'.format(total_bytes))"
   ]
  }
 ],
 "metadata": {
  "kernelspec": {
   "display_name": "Python 3",
   "language": "python",
   "name": "python3"
  },
  "language_info": {
   "codemirror_mode": {
    "name": "ipython",
    "version": 3
   },
   "file_extension": ".py",
   "mimetype": "text/x-python",
   "name": "python",
   "nbconvert_exporter": "python",
   "pygments_lexer": "ipython3",
   "version": "3.5.1"
  }
 },
 "nbformat": 4,
 "nbformat_minor": 0
}
