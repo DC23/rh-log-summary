{
 "cells": [
  {
   "cell_type": "code",
   "execution_count": 40,
   "metadata": {
    "collapsed": false
   },
   "outputs": [
    {
     "ename": "ImportError",
     "evalue": "No module named 'humanize'",
     "output_type": "error",
     "traceback": [
      "\u001b[1;31m---------------------------------------------------------------------------\u001b[0m",
      "\u001b[1;31mImportError\u001b[0m                               Traceback (most recent call last)",
      "\u001b[1;32m<ipython-input-40-d89cc0f9350b>\u001b[0m in \u001b[0;36m<module>\u001b[1;34m()\u001b[0m\n\u001b[0;32m      1\u001b[0m \u001b[1;32mimport\u001b[0m \u001b[0mre\u001b[0m\u001b[1;33m\u001b[0m\u001b[0m\n\u001b[0;32m      2\u001b[0m \u001b[1;33m\u001b[0m\u001b[0m\n\u001b[1;32m----> 3\u001b[1;33m \u001b[1;32mimport\u001b[0m \u001b[0mhumanize\u001b[0m\u001b[1;33m\u001b[0m\u001b[0m\n\u001b[0m",
      "\u001b[1;31mImportError\u001b[0m: No module named 'humanize'"
     ]
    }
   ],
   "source": [
    "import re\n",
    "\n",
    "import humanize"
   ]
  },
  {
   "cell_type": "code",
   "execution_count": 34,
   "metadata": {
    "collapsed": true
   },
   "outputs": [],
   "source": [
    "# Set up the regexes\n",
    "re_filename = re.compile(r\".*Purged '([^']+)'\")\n",
    "#re_filename = re.compile(r\".*Purged '(.+)'\")\n",
    "\n",
    "re_bytes = re.compile(r\".*size=(\\d+)\")\n",
    "\n",
    "re_atime = re.compile(r\".*last access (\\d+\\.\\d+)\")"
   ]
  },
  {
   "cell_type": "code",
   "execution_count": 35,
   "metadata": {
    "collapsed": true
   },
   "outputs": [],
   "source": [
    "file = './askap_purge'"
   ]
  },
  {
   "cell_type": "code",
   "execution_count": 41,
   "metadata": {
    "collapsed": false
   },
   "outputs": [
    {
     "name": "stdout",
     "output_type": "stream",
     "text": [
      "/scratch2/askap/askapops/archive/askap-scheduling-blocks: 48 bytes, last access: 53.7 days\n",
      "/scratch2/askap/askapops/archive/BusyWeekData/SB1248+1250_CDFS_FieldA_Beam0.ms/table.dat: 7354 bytes, last access: 53.7 days\n",
      "/scratch2/askap/askapops/archive/BusyWeekData/SB1248+1250_CDFS_FieldA_Beam0.ms/table.f0: 197218 bytes, last access: 53.7 days\n",
      "/scratch2/askap/askapops/archive/BusyWeekData/SB1248+1250_CDFS_FieldA_Beam0.ms/table.f0i: 16 bytes, last access: 53.7 days\n",
      "/scratch2/askap/askapops/archive/beta-scheduling-blocks: 48 bytes, last access: 53.7 days\n",
      "/scratch2/askap/askapops/archive/BusyWeekData/SB1248+1250_CDFS_FieldA_Beam0.ms/table.f1: 3146240 bytes, last access: 53.7 days\n",
      "/scratch2/askap/askapops/archive/BusyWeekData/SB1248+1250_CDFS_FieldA_Beam0.ms/table.f2: 491 bytes, last access: 53.7 days\n",
      "/scratch2/askap/askapops/archive/BusyWeekData/SB1248+1250_CDFS_FieldA_Beam0.ms/table.f2_TSM1: 1147437056 bytes, last access: 53.7 days\n",
      "/scratch2/askap/askapops/archive/BusyWeekData/SB1248+1250_CDFS_FieldA_Beam0.ms/table.f3_TSM1: 2490368 bytes, last access: 53.7 days\n",
      "/scratch2/askap/askapops/archive/BusyWeekData/SB1248+1250_CDFS_FieldA_Beam0.ms/table.info: 179 bytes, last access: 53.7 days\n"
     ]
    }
   ],
   "source": [
    "with open(file) as f:\n",
    "    for line in f:\n",
    "        try:\n",
    "            filename = re_filename.match(line).group(1)\n",
    "            size = re_bytes.match(line).group(1) \n",
    "            atime = re_atime.match(line).group(1)\n",
    "            \n",
    "            print('{0}: {1} bytes, last access: {2} days'.format(filename, size, atime))\n",
    "        except:\n",
    "            continue"
   ]
  }
 ],
 "metadata": {
  "kernelspec": {
   "display_name": "Python 3",
   "language": "python",
   "name": "python3"
  },
  "language_info": {
   "codemirror_mode": {
    "name": "ipython",
    "version": 3
   },
   "file_extension": ".py",
   "mimetype": "text/x-python",
   "name": "python",
   "nbconvert_exporter": "python",
   "pygments_lexer": "ipython3",
   "version": "3.5.1"
  }
 },
 "nbformat": 4,
 "nbformat_minor": 0
}
